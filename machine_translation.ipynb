{
 "cells": [
  {
   "cell_type": "markdown",
   "metadata": {
    "collapsed": true
   },
   "source": [
    "# Artificial Intelligence Nanodegree\n",
    "## Machine Translation Project\n",
    "In this notebook, sections that end with **'(IMPLEMENTATION)'** in the header indicate that the following blocks of code will require additional functionality which you must provide. Please be sure to read the instructions carefully!\n",
    "\n",
    "## Introduction\n",
    "In this notebook, you will build a deep neural network that functions as part of an end-to-end machine translation pipeline. Your completed pipeline will accept English text as input and return the French translation.\n",
    "\n",
    "- **Preprocess** - You'll convert text to sequence of integers.\n",
    "- **Models** Create models which accepts a sequence of integers as input and returns a probability distribution over possible translations. After learning about the basic types of neural networks that are often used for machine translation, you will engage in your own investigations, to design your own model!\n",
    "- **Prediction** Run the model on English text."
   ]
  },
  {
   "cell_type": "code",
   "execution_count": 1,
   "metadata": {},
   "outputs": [],
   "source": [
    "%load_ext autoreload\n",
    "%aimport helper, tests\n",
    "%autoreload 1"
   ]
  },
  {
   "cell_type": "code",
   "execution_count": 17,
   "metadata": {},
   "outputs": [],
   "source": [
    "import collections\n",
    "\n",
    "import helper\n",
    "import numpy as np\n",
    "import project_tests as tests\n",
    "\n",
    "from keras.preprocessing.text import Tokenizer\n",
    "from keras.preprocessing.sequence import pad_sequences\n",
    "from keras.models import Model\n",
    "from keras.layers import GRU, Input, Dense, TimeDistributed, Activation, RepeatVector, Bidirectional, LSTM\n",
    "from keras.layers.embeddings import Embedding\n",
    "from keras.optimizers import Adam\n",
    "from keras.losses import sparse_categorical_crossentropy"
   ]
  },
  {
   "cell_type": "markdown",
   "metadata": {},
   "source": [
    "### Verify access to the GPU\n",
    "The following test applies only if you expect to be using a GPU, e.g., while running in a Udacity Workspace or using an AWS instance with GPU support. Run the next cell, and verify that the device_type is \"GPU\".\n",
    "- If the device is not GPU & you are running from a Udacity Workspace, then save your workspace with the icon at the top, then click \"enable\" at the bottom of the workspace.\n",
    "- If the device is not GPU & you are running from an AWS instance, then refer to the cloud computing instructions in the classroom to verify your setup steps."
   ]
  },
  {
   "cell_type": "code",
   "execution_count": 3,
   "metadata": {},
   "outputs": [
    {
     "name": "stdout",
     "output_type": "stream",
     "text": [
      "[name: \"/cpu:0\"\n",
      "device_type: \"CPU\"\n",
      "memory_limit: 268435456\n",
      "locality {\n",
      "}\n",
      "incarnation: 9458278748627806766\n",
      ", name: \"/gpu:0\"\n",
      "device_type: \"GPU\"\n",
      "memory_limit: 357433344\n",
      "locality {\n",
      "  bus_id: 1\n",
      "}\n",
      "incarnation: 14348827336000918597\n",
      "physical_device_desc: \"device: 0, name: Tesla K80, pci bus id: 0000:00:04.0\"\n",
      "]\n"
     ]
    }
   ],
   "source": [
    "from tensorflow.python.client import device_lib\n",
    "print(device_lib.list_local_devices())"
   ]
  },
  {
   "cell_type": "markdown",
   "metadata": {},
   "source": [
    "## Dataset\n",
    "We begin by investigating the dataset that will be used to train and evaluate your pipeline.  The most common datasets used for machine translation are from [WMT](http://www.statmt.org/).  However, that will take a long time to train a neural network on.  We'll be using a dataset we created for this project that contains a small vocabulary.  You'll be able to train your model in a reasonable time with this dataset.\n",
    "### Load Data\n",
    "The data is located in `data/small_vocab_en` and `data/small_vocab_fr`. The `small_vocab_en` file contains English sentences with their French translations in the `small_vocab_fr` file. Load the English and French data from these files from running the cell below."
   ]
  },
  {
   "cell_type": "code",
   "execution_count": 4,
   "metadata": {},
   "outputs": [
    {
     "name": "stdout",
     "output_type": "stream",
     "text": [
      "Dataset Loaded\n"
     ]
    }
   ],
   "source": [
    "# Load English data\n",
    "english_sentences = helper.load_data('data/small_vocab_en')\n",
    "# Load French data\n",
    "french_sentences = helper.load_data('data/small_vocab_fr')\n",
    "\n",
    "print('Dataset Loaded')"
   ]
  },
  {
   "cell_type": "markdown",
   "metadata": {},
   "source": [
    "### Files\n",
    "Each line in `small_vocab_en` contains an English sentence with the respective translation in each line of `small_vocab_fr`.  View the first two lines from each file."
   ]
  },
  {
   "cell_type": "code",
   "execution_count": 5,
   "metadata": {},
   "outputs": [
    {
     "name": "stdout",
     "output_type": "stream",
     "text": [
      "small_vocab_en Line 1:  new jersey is sometimes quiet during autumn , and it is snowy in april .\n",
      "small_vocab_fr Line 1:  new jersey est parfois calme pendant l' automne , et il est neigeux en avril .\n",
      "small_vocab_en Line 2:  the united states is usually chilly during july , and it is usually freezing in november .\n",
      "small_vocab_fr Line 2:  les états-unis est généralement froid en juillet , et il gèle habituellement en novembre .\n"
     ]
    }
   ],
   "source": [
    "for sample_i in range(2):\n",
    "    print('small_vocab_en Line {}:  {}'.format(sample_i + 1, english_sentences[sample_i]))\n",
    "    print('small_vocab_fr Line {}:  {}'.format(sample_i + 1, french_sentences[sample_i]))"
   ]
  },
  {
   "cell_type": "markdown",
   "metadata": {},
   "source": [
    "From looking at the sentences, you can see they have been preprocessed already.  The puncuations have been delimited using spaces. All the text have been converted to lowercase.  This should save you some time, but the text requires more preprocessing.\n",
    "### Vocabulary\n",
    "The complexity of the problem is determined by the complexity of the vocabulary.  A more complex vocabulary is a more complex problem.  Let's look at the complexity of the dataset we'll be working with."
   ]
  },
  {
   "cell_type": "code",
   "execution_count": 6,
   "metadata": {},
   "outputs": [
    {
     "name": "stdout",
     "output_type": "stream",
     "text": [
      "1823250 English words.\n",
      "227 unique English words.\n",
      "10 Most common words in the English dataset:\n",
      "\"is\" \",\" \".\" \"in\" \"it\" \"during\" \"the\" \"but\" \"and\" \"sometimes\"\n",
      "\n",
      "1961295 French words.\n",
      "355 unique French words.\n",
      "10 Most common words in the French dataset:\n",
      "\"est\" \".\" \",\" \"en\" \"il\" \"les\" \"mais\" \"et\" \"la\" \"parfois\"\n"
     ]
    }
   ],
   "source": [
    "english_words_counter = collections.Counter([word for sentence in english_sentences for word in sentence.split()])\n",
    "french_words_counter = collections.Counter([word for sentence in french_sentences for word in sentence.split()])\n",
    "\n",
    "print('{} English words.'.format(len([word for sentence in english_sentences for word in sentence.split()])))\n",
    "print('{} unique English words.'.format(len(english_words_counter)))\n",
    "print('10 Most common words in the English dataset:')\n",
    "print('\"' + '\" \"'.join(list(zip(*english_words_counter.most_common(10)))[0]) + '\"')\n",
    "print()\n",
    "print('{} French words.'.format(len([word for sentence in french_sentences for word in sentence.split()])))\n",
    "print('{} unique French words.'.format(len(french_words_counter)))\n",
    "print('10 Most common words in the French dataset:')\n",
    "print('\"' + '\" \"'.join(list(zip(*french_words_counter.most_common(10)))[0]) + '\"')"
   ]
  },
  {
   "cell_type": "markdown",
   "metadata": {},
   "source": [
    "For comparison, _Alice's Adventures in Wonderland_ contains 2,766 unique words of a total of 15,500 words.\n",
    "## Preprocess\n",
    "For this project, you won't use text data as input to your model. Instead, you'll convert the text into sequences of integers using the following preprocess methods:\n",
    "1. Tokenize the words into ids\n",
    "2. Add padding to make all the sequences the same length.\n",
    "\n",
    "Time to start preprocessing the data...\n",
    "### Tokenize (IMPLEMENTATION)\n",
    "For a neural network to predict on text data, it first has to be turned into data it can understand. Text data like \"dog\" is a sequence of ASCII character encodings.  Since a neural network is a series of multiplication and addition operations, the input data needs to be number(s).\n",
    "\n",
    "We can turn each character into a number or each word into a number.  These are called character and word ids, respectively.  Character ids are used for character level models that generate text predictions for each character.  A word level model uses word ids that generate text predictions for each word.  Word level models tend to learn better, since they are lower in complexity, so we'll use those.\n",
    "\n",
    "Turn each sentence into a sequence of words ids using Keras's [`Tokenizer`](https://keras.io/preprocessing/text/#tokenizer) function. Use this function to tokenize `english_sentences` and `french_sentences` in the cell below.\n",
    "\n",
    "Running the cell will run `tokenize` on sample data and show output for debugging."
   ]
  },
  {
   "cell_type": "code",
   "execution_count": 7,
   "metadata": {},
   "outputs": [
    {
     "name": "stdout",
     "output_type": "stream",
     "text": [
      "{'the': 1, 'quick': 2, 'a': 3, 'brown': 4, 'fox': 5, 'jumps': 6, 'over': 7, 'lazy': 8, 'dog': 9, 'by': 10, 'jove': 11, 'my': 12, 'study': 13, 'of': 14, 'lexicography': 15, 'won': 16, 'prize': 17, 'this': 18, 'is': 19, 'short': 20, 'sentence': 21}\n",
      "\n",
      "Sequence 1 in x\n",
      "  Input:  The quick brown fox jumps over the lazy dog .\n",
      "  Output: [1, 2, 4, 5, 6, 7, 1, 8, 9]\n",
      "Sequence 2 in x\n",
      "  Input:  By Jove , my quick study of lexicography won a prize .\n",
      "  Output: [10, 11, 12, 2, 13, 14, 15, 16, 3, 17]\n",
      "Sequence 3 in x\n",
      "  Input:  This is a short sentence .\n",
      "  Output: [18, 19, 3, 20, 21]\n"
     ]
    }
   ],
   "source": [
    "def tokenize(x):\n",
    "    \"\"\"\n",
    "    Tokenize x\n",
    "    :param x: List of sentences/strings to be tokenized\n",
    "    :return: Tuple of (tokenized x data, tokenizer used to tokenize x)\n",
    "    \"\"\"\n",
    "    # TODO: Implement\n",
    "    tokenizer = Tokenizer()\n",
    "    tokenizer.fit_on_texts(x)\n",
    "    return tokenizer.texts_to_sequences(x), tokenizer\n",
    "\n",
    "tests.test_tokenize(tokenize)\n",
    "\n",
    "# Tokenize Example output\n",
    "text_sentences = [\n",
    "    'The quick brown fox jumps over the lazy dog .',\n",
    "    'By Jove , my quick study of lexicography won a prize .',\n",
    "    'This is a short sentence .']\n",
    "text_tokenized, text_tokenizer = tokenize(text_sentences)\n",
    "print(text_tokenizer.word_index)\n",
    "print()\n",
    "for sample_i, (sent, token_sent) in enumerate(zip(text_sentences, text_tokenized)):\n",
    "    print('Sequence {} in x'.format(sample_i + 1))\n",
    "    print('  Input:  {}'.format(sent))\n",
    "    print('  Output: {}'.format(token_sent))"
   ]
  },
  {
   "cell_type": "markdown",
   "metadata": {},
   "source": [
    "### Padding (IMPLEMENTATION)\n",
    "When batching the sequence of word ids together, each sequence needs to be the same length.  Since sentences are dynamic in length, we can add padding to the end of the sequences to make them the same length.\n",
    "\n",
    "Make sure all the English sequences have the same length and all the French sequences have the same length by adding padding to the **end** of each sequence using Keras's [`pad_sequences`](https://keras.io/preprocessing/sequence/#pad_sequences) function."
   ]
  },
  {
   "cell_type": "code",
   "execution_count": 8,
   "metadata": {},
   "outputs": [
    {
     "name": "stdout",
     "output_type": "stream",
     "text": [
      "Sequence 1 in x\n",
      "  Input:  [1 2 4 5 6 7 1 8 9]\n",
      "  Output: [1 2 4 5 6 7 1 8 9 0]\n",
      "Sequence 2 in x\n",
      "  Input:  [10 11 12  2 13 14 15 16  3 17]\n",
      "  Output: [10 11 12  2 13 14 15 16  3 17]\n",
      "Sequence 3 in x\n",
      "  Input:  [18 19  3 20 21]\n",
      "  Output: [18 19  3 20 21  0  0  0  0  0]\n"
     ]
    }
   ],
   "source": [
    "def pad(x, length=None):\n",
    "    \"\"\"\n",
    "    Pad x\n",
    "    :param x: List of sequences.\n",
    "    :param length: Length to pad the sequence to.  If None, use length of longest sequence in x.\n",
    "    :return: Padded numpy array of sequences\n",
    "    \"\"\"\n",
    "    # TODO: Implement\n",
    "    if length is None:\n",
    "        length = len(max(x, key=len))\n",
    "        \n",
    "    return pad_sequences(x, maxlen=length, padding='post')\n",
    "\n",
    "tests.test_pad(pad)\n",
    "\n",
    "# Pad Tokenized output\n",
    "test_pad = pad(text_tokenized)\n",
    "for sample_i, (token_sent, pad_sent) in enumerate(zip(text_tokenized, test_pad)):\n",
    "    print('Sequence {} in x'.format(sample_i + 1))\n",
    "    print('  Input:  {}'.format(np.array(token_sent)))\n",
    "    print('  Output: {}'.format(pad_sent))"
   ]
  },
  {
   "cell_type": "markdown",
   "metadata": {},
   "source": [
    "### Preprocess Pipeline\n",
    "Your focus for this project is to build neural network architecture, so we won't ask you to create a preprocess pipeline.  Instead, we've provided you with the implementation of the `preprocess` function."
   ]
  },
  {
   "cell_type": "code",
   "execution_count": 9,
   "metadata": {},
   "outputs": [
    {
     "name": "stdout",
     "output_type": "stream",
     "text": [
      "Data Preprocessed\n",
      "Max English sentence length: 15\n",
      "Max French sentence length: 21\n",
      "English vocabulary size: 199\n",
      "French vocabulary size: 344\n"
     ]
    }
   ],
   "source": [
    "def preprocess(x, y):\n",
    "    \"\"\"\n",
    "    Preprocess x and y\n",
    "    :param x: Feature List of sentences\n",
    "    :param y: Label List of sentences\n",
    "    :return: Tuple of (Preprocessed x, Preprocessed y, x tokenizer, y tokenizer)\n",
    "    \"\"\"\n",
    "    preprocess_x, x_tk = tokenize(x)\n",
    "    preprocess_y, y_tk = tokenize(y)\n",
    "\n",
    "    preprocess_x = pad(preprocess_x)\n",
    "    preprocess_y = pad(preprocess_y)\n",
    "\n",
    "    # Keras's sparse_categorical_crossentropy function requires the labels to be in 3 dimensions\n",
    "    preprocess_y = preprocess_y.reshape(*preprocess_y.shape, 1)\n",
    "\n",
    "    return preprocess_x, preprocess_y, x_tk, y_tk\n",
    "\n",
    "preproc_english_sentences, preproc_french_sentences, english_tokenizer, french_tokenizer =\\\n",
    "    preprocess(english_sentences, french_sentences)\n",
    "    \n",
    "max_english_sequence_length = preproc_english_sentences.shape[1]\n",
    "max_french_sequence_length = preproc_french_sentences.shape[1]\n",
    "english_vocab_size = len(english_tokenizer.word_index)\n",
    "french_vocab_size = len(french_tokenizer.word_index)\n",
    "\n",
    "print('Data Preprocessed')\n",
    "print(\"Max English sentence length:\", max_english_sequence_length)\n",
    "print(\"Max French sentence length:\", max_french_sequence_length)\n",
    "print(\"English vocabulary size:\", english_vocab_size)\n",
    "print(\"French vocabulary size:\", french_vocab_size)"
   ]
  },
  {
   "cell_type": "markdown",
   "metadata": {},
   "source": [
    "## Models\n",
    "In this section, you will experiment with various neural network architectures.\n",
    "You will begin by training four relatively simple architectures.\n",
    "- Model 1 is a simple RNN\n",
    "- Model 2 is a RNN with Embedding\n",
    "- Model 3 is a Bidirectional RNN\n",
    "- Model 4 is an optional Encoder-Decoder RNN\n",
    "\n",
    "After experimenting with the four simple architectures, you will construct a deeper architecture that is designed to outperform all four models.\n",
    "### Ids Back to Text\n",
    "The neural network will be translating the input to words ids, which isn't the final form we want.  We want the French translation.  The function `logits_to_text` will bridge the gab between the logits from the neural network to the French translation.  You'll be using this function to better understand the output of the neural network."
   ]
  },
  {
   "cell_type": "code",
   "execution_count": 10,
   "metadata": {},
   "outputs": [
    {
     "name": "stdout",
     "output_type": "stream",
     "text": [
      "`logits_to_text` function loaded.\n"
     ]
    }
   ],
   "source": [
    "def logits_to_text(logits, tokenizer):\n",
    "    \"\"\"\n",
    "    Turn logits from a neural network into text using the tokenizer\n",
    "    :param logits: Logits from a neural network\n",
    "    :param tokenizer: Keras Tokenizer fit on the labels\n",
    "    :return: String that represents the text of the logits\n",
    "    \"\"\"\n",
    "    index_to_words = {id: word for word, id in tokenizer.word_index.items()}\n",
    "    index_to_words[0] = '<PAD>'\n",
    "\n",
    "    return ' '.join([index_to_words[prediction] for prediction in np.argmax(logits, 1)])\n",
    "\n",
    "print('`logits_to_text` function loaded.')"
   ]
  },
  {
   "cell_type": "markdown",
   "metadata": {},
   "source": [
    "### Model 1: RNN (IMPLEMENTATION)\n",
    "![RNN](images/rnn.png)\n",
    "A basic RNN model is a good baseline for sequence data.  In this model, you'll build a RNN that translates English to French."
   ]
  },
  {
   "cell_type": "code",
   "execution_count": 11,
   "metadata": {},
   "outputs": [
    {
     "name": "stdout",
     "output_type": "stream",
     "text": [
      "Train on 110288 samples, validate on 27573 samples\n",
      "Epoch 1/10\n",
      "110288/110288 [==============================] - 9s 83us/step - loss: 4.0760 - acc: 0.4031 - val_loss: nan - val_acc: 0.4251\n",
      "Epoch 2/10\n",
      "110288/110288 [==============================] - 7s 66us/step - loss: 2.6458 - acc: 0.4471 - val_loss: nan - val_acc: 0.4603\n",
      "Epoch 3/10\n",
      "110288/110288 [==============================] - 7s 67us/step - loss: 2.4939 - acc: 0.4685 - val_loss: nan - val_acc: 0.4723\n",
      "Epoch 4/10\n",
      "110288/110288 [==============================] - 7s 65us/step - loss: 2.3842 - acc: 0.4820 - val_loss: nan - val_acc: 0.4990\n",
      "Epoch 5/10\n",
      "110288/110288 [==============================] - 7s 63us/step - loss: 2.2895 - acc: 0.5098 - val_loss: nan - val_acc: 0.5199\n",
      "Epoch 6/10\n",
      "110288/110288 [==============================] - 8s 68us/step - loss: 2.2014 - acc: 0.5217 - val_loss: nan - val_acc: 0.5401\n",
      "Epoch 7/10\n",
      "110288/110288 [==============================] - 9s 83us/step - loss: 2.1117 - acc: 0.5446 - val_loss: nan - val_acc: 0.5464\n",
      "Epoch 8/10\n",
      "110288/110288 [==============================] - 9s 83us/step - loss: 2.0098 - acc: 0.5484 - val_loss: nan - val_acc: 0.5536\n",
      "Epoch 9/10\n",
      "110288/110288 [==============================] - 10s 87us/step - loss: 1.9098 - acc: 0.5601 - val_loss: nan - val_acc: 0.5665\n",
      "Epoch 10/10\n",
      "110288/110288 [==============================] - 10s 87us/step - loss: 1.8369 - acc: 0.5730 - val_loss: nan - val_acc: 0.5761\n",
      "la jersey est est parfois en en mais il est en en en <PAD> <PAD> <PAD> <PAD> <PAD> <PAD> <PAD> <PAD>\n"
     ]
    }
   ],
   "source": [
    "def simple_model(input_shape, output_sequence_length, english_vocab_size, french_vocab_size):\n",
    "    \"\"\"\n",
    "    Build and train a basic RNN on x and y\n",
    "    :param input_shape: Tuple of input shape\n",
    "    :param output_sequence_length: Length of output sequence\n",
    "    :param english_vocab_size: Number of unique English words in the dataset\n",
    "    :param french_vocab_size: Number of unique French words in the dataset\n",
    "    :return: Keras model built, but not trained\n",
    "    \"\"\"\n",
    "    # TODO: Build the layers\n",
    "    input_sequence = Input(input_shape[1:])\n",
    "    RNN = GRU(32, return_sequences=True)(input_sequence)\n",
    "    logits = TimeDistributed(Dense(french_vocab_size))(RNN)\n",
    "    \n",
    "    model = Model(input_sequence, Activation('softmax')(logits))\n",
    "    model.compile(loss=sparse_categorical_crossentropy,\n",
    "                  optimizer=Adam(lr=.001),\n",
    "                  metrics=['accuracy'])\n",
    "    return model\n",
    "\n",
    "tests.test_simple_model(simple_model)\n",
    "\n",
    "# Reshaping the input to work with a basic RNN\n",
    "tmp_x = pad(preproc_english_sentences, max_french_sequence_length)\n",
    "tmp_x = tmp_x.reshape((-1, preproc_french_sentences.shape[-2], 1))\n",
    "\n",
    "# Train the neural network\n",
    "simple_rnn_model = simple_model(\n",
    "    tmp_x.shape,\n",
    "    max_french_sequence_length,\n",
    "    english_vocab_size,\n",
    "    french_vocab_size)\n",
    "simple_rnn_model.fit(tmp_x, preproc_french_sentences, batch_size=1024, epochs=10, validation_split=0.2)\n",
    "\n",
    "# Print prediction(s)\n",
    "print(logits_to_text(simple_rnn_model.predict(tmp_x[:1])[0], french_tokenizer))"
   ]
  },
  {
   "cell_type": "markdown",
   "metadata": {},
   "source": [
    "### Model 2: Embedding (IMPLEMENTATION)\n",
    "![RNN](images/embedding.png)\n",
    "You've turned the words into ids, but there's a better representation of a word.  This is called word embeddings.  An embedding is a vector representation of the word that is close to similar words in n-dimensional space, where the n represents the size of the embedding vectors.\n",
    "\n",
    "In this model, you'll create a RNN model using embedding."
   ]
  },
  {
   "cell_type": "code",
   "execution_count": 14,
   "metadata": {},
   "outputs": [
    {
     "name": "stdout",
     "output_type": "stream",
     "text": [
      "Train on 110288 samples, validate on 27573 samples\n",
      "Epoch 1/10\n",
      "110288/110288 [==============================] - 8s 71us/step - loss: 3.7866 - acc: 0.4038 - val_loss: nan - val_acc: 0.4094\n",
      "Epoch 2/10\n",
      "110288/110288 [==============================] - 7s 67us/step - loss: 2.6154 - acc: 0.4512 - val_loss: nan - val_acc: 0.4891\n",
      "Epoch 3/10\n",
      "110288/110288 [==============================] - 7s 67us/step - loss: 2.0043 - acc: 0.5524 - val_loss: nan - val_acc: 0.6151\n",
      "Epoch 4/10\n",
      "110288/110288 [==============================] - 7s 67us/step - loss: 1.4143 - acc: 0.6622 - val_loss: nan - val_acc: 0.7004\n",
      "Epoch 5/10\n",
      "110288/110288 [==============================] - 7s 67us/step - loss: 1.1250 - acc: 0.7291 - val_loss: nan - val_acc: 0.7532\n",
      "Epoch 6/10\n",
      "110288/110288 [==============================] - 7s 67us/step - loss: 0.9392 - acc: 0.7670 - val_loss: nan - val_acc: 0.7789\n",
      "Epoch 7/10\n",
      "110288/110288 [==============================] - 7s 66us/step - loss: 0.8125 - acc: 0.7890 - val_loss: nan - val_acc: 0.7978\n",
      "Epoch 8/10\n",
      "110288/110288 [==============================] - 7s 67us/step - loss: 0.7210 - acc: 0.8066 - val_loss: nan - val_acc: 0.8130\n",
      "Epoch 9/10\n",
      "110288/110288 [==============================] - 7s 67us/step - loss: 0.6540 - acc: 0.8196 - val_loss: nan - val_acc: 0.8258\n",
      "Epoch 10/10\n",
      "110288/110288 [==============================] - 7s 67us/step - loss: 0.5999 - acc: 0.8320 - val_loss: nan - val_acc: 0.8369\n",
      "new jersey est parfois calme en l'automne et il il est neigeux avril avril <PAD> <PAD> <PAD> <PAD> <PAD> <PAD> <PAD>\n"
     ]
    }
   ],
   "source": [
    "def embed_model(input_shape, output_sequence_length, english_vocab_size, french_vocab_size):\n",
    "    \"\"\"\n",
    "    Build and train a RNN model using word embedding on x and y\n",
    "    :param input_shape: Tuple of input shape\n",
    "    :param output_sequence_length: Length of output sequence\n",
    "    :param english_vocab_size: Number of unique English words in the dataset\n",
    "    :param french_vocab_size: Number of unique French words in the dataset\n",
    "    :return: Keras model built, but not trained\n",
    "    \"\"\"\n",
    "    # TODO: Implement\n",
    "    input_seq = Input(input_shape[1:])\n",
    "    embed_layer = Embedding(english_vocab_size, 64, input_length=output_sequence_length)(input_seq)\n",
    "    rnn = GRU(64, return_sequences=True)(embed_layer)\n",
    "\n",
    "    logits = TimeDistributed(Dense(french_vocab_size, activation='softmax'))(rnn)\n",
    "    \n",
    "    model = Model(inputs=input_seq, outputs=logits)\n",
    "    model.compile(loss=sparse_categorical_crossentropy,\n",
    "                  optimizer=Adam(lr=.001),\n",
    "                  metrics=['accuracy'])\n",
    "    return model\n",
    "tests.test_embed_model(embed_model)\n",
    "\n",
    "\n",
    "# TODO: Reshape the input\n",
    "tmp_x = pad(preproc_english_sentences, max_french_sequence_length)\n",
    "# TODO: Train the neural network\n",
    "embed_rnn_model = embed_model(\n",
    "    tmp_x.shape, \n",
    "    max_french_sequence_length, \n",
    "    english_vocab_size, \n",
    "    french_vocab_size)\n",
    "embed_rnn_model.fit(tmp_x, preproc_french_sentences, batch_size=1024, epochs=10, validation_split=0.2)\n",
    "# TODO: Print prediction(s)\n",
    "print(logits_to_text(embed_rnn_model.predict(tmp_x[:1])[0], french_tokenizer))"
   ]
  },
  {
   "cell_type": "markdown",
   "metadata": {},
   "source": [
    "### Model 3: Bidirectional RNNs (IMPLEMENTATION)\n",
    "![RNN](images/bidirectional.png)\n",
    "One restriction of a RNN is that it can't see the future input, only the past.  This is where bidirectional recurrent neural networks come in.  They are able to see the future data."
   ]
  },
  {
   "cell_type": "code",
   "execution_count": 15,
   "metadata": {},
   "outputs": [
    {
     "name": "stdout",
     "output_type": "stream",
     "text": [
      "Train on 110288 samples, validate on 27573 samples\n",
      "Epoch 1/10\n",
      "110288/110288 [==============================] - 11s 96us/step - loss: 3.1951 - acc: 0.4653 - val_loss: nan - val_acc: 0.5200\n",
      "Epoch 2/10\n",
      "110288/110288 [==============================] - 10s 89us/step - loss: 1.8922 - acc: 0.5611 - val_loss: nan - val_acc: 0.5756\n",
      "Epoch 3/10\n",
      "110288/110288 [==============================] - 10s 90us/step - loss: 1.6106 - acc: 0.5939 - val_loss: nan - val_acc: 0.6088\n",
      "Epoch 4/10\n",
      "110288/110288 [==============================] - 10s 90us/step - loss: 1.4762 - acc: 0.6137 - val_loss: nan - val_acc: 0.6203\n",
      "Epoch 5/10\n",
      "110288/110288 [==============================] - 10s 91us/step - loss: 1.3866 - acc: 0.6256 - val_loss: nan - val_acc: 0.6304\n",
      "Epoch 6/10\n",
      "110288/110288 [==============================] - 10s 90us/step - loss: 1.3208 - acc: 0.6371 - val_loss: nan - val_acc: 0.6407\n",
      "Epoch 7/10\n",
      "110288/110288 [==============================] - 10s 90us/step - loss: 1.2696 - acc: 0.6473 - val_loss: nan - val_acc: 0.6524\n",
      "Epoch 8/10\n",
      "110288/110288 [==============================] - 10s 90us/step - loss: 1.2273 - acc: 0.6547 - val_loss: nan - val_acc: 0.6574\n",
      "Epoch 9/10\n",
      "110288/110288 [==============================] - 10s 90us/step - loss: 1.1921 - acc: 0.6603 - val_loss: nan - val_acc: 0.6634\n",
      "Epoch 10/10\n",
      "110288/110288 [==============================] - 10s 90us/step - loss: 1.1625 - acc: 0.6655 - val_loss: nan - val_acc: 0.6667\n",
      "new jersey est parfois parfois en l' et il est est en en <PAD> <PAD> <PAD> <PAD> <PAD> <PAD> <PAD> <PAD>\n"
     ]
    }
   ],
   "source": [
    "def bd_model(input_shape, output_sequence_length, english_vocab_size, french_vocab_size):\n",
    "    \"\"\"\n",
    "    Build and train a bidirectional RNN model on x and y\n",
    "    :param input_shape: Tuple of input shape\n",
    "    :param output_sequence_length: Length of output sequence\n",
    "    :param english_vocab_size: Number of unique English words in the dataset\n",
    "    :param french_vocab_size: Number of unique French words in the dataset\n",
    "    :return: Keras model built, but not trained\n",
    "    \"\"\"\n",
    "    # TODO: Implement\n",
    "    input_seq = Input(input_shape[1:])\n",
    "    bdrnn = Bidirectional(GRU(64, return_sequences=True))(input_seq)\n",
    "    logits = TimeDistributed(Dense(french_vocab_size, activation='softmax'))(bdrnn)\n",
    "    model = Model(inputs=input_seq, outputs=logits)\n",
    "    model.compile(loss=sparse_categorical_crossentropy,\n",
    "                  optimizer=Adam(lr=.001),\n",
    "                  metrics=['accuracy'])\n",
    "    return model\n",
    "tests.test_bd_model(bd_model)\n",
    "\n",
    "\n",
    "# TODO: Train and Print prediction(s)\n",
    "tmp_x = pad(preproc_english_sentences, max_french_sequence_length)\n",
    "tmp_x = tmp_x.reshape((-1, preproc_french_sentences.shape[-2], 1))\n",
    "\n",
    "bdrnn_model = bd_model(\n",
    "    tmp_x.shape,\n",
    "    max_french_sequence_length,\n",
    "    english_vocab_size,\n",
    "    french_vocab_size)\n",
    "bdrnn_model.fit(tmp_x, preproc_french_sentences, batch_size=1024, epochs=10, validation_split=0.2)\n",
    "\n",
    "print(logits_to_text(bdrnn_model.predict(tmp_x[:1])[0], french_tokenizer))"
   ]
  },
  {
   "cell_type": "markdown",
   "metadata": {},
   "source": [
    "### Model 4: Encoder-Decoder (OPTIONAL)\n",
    "Time to look at encoder-decoder models.  This model is made up of an encoder and decoder. The encoder creates a matrix representation of the sentence.  The decoder takes this matrix as input and predicts the translation as output.\n",
    "\n",
    "Create an encoder-decoder model in the cell below."
   ]
  },
  {
   "cell_type": "code",
   "execution_count": 18,
   "metadata": {},
   "outputs": [
    {
     "name": "stdout",
     "output_type": "stream",
     "text": [
      "Train on 110288 samples, validate on 27573 samples\n",
      "Epoch 1/10\n",
      "110288/110288 [==============================] - 13s 122us/step - loss: 3.4627 - acc: 0.4154 - val_loss: nan - val_acc: 0.4713\n",
      "Epoch 2/10\n",
      "110288/110288 [==============================] - 13s 114us/step - loss: 2.4952 - acc: 0.4805 - val_loss: nan - val_acc: 0.4952\n",
      "Epoch 3/10\n",
      "110288/110288 [==============================] - 13s 114us/step - loss: 2.3045 - acc: 0.4958 - val_loss: nan - val_acc: 0.5084\n",
      "Epoch 4/10\n",
      "110288/110288 [==============================] - 13s 114us/step - loss: 2.1951 - acc: 0.5171 - val_loss: nan - val_acc: 0.5281\n",
      "Epoch 5/10\n",
      "110288/110288 [==============================] - 13s 114us/step - loss: 2.0920 - acc: 0.5263 - val_loss: nan - val_acc: 0.5280\n",
      "Epoch 6/10\n",
      "110288/110288 [==============================] - 13s 114us/step - loss: 1.9143 - acc: 0.5415 - val_loss: nan - val_acc: 0.5543\n",
      "Epoch 7/10\n",
      "110288/110288 [==============================] - 13s 113us/step - loss: 1.7817 - acc: 0.5552 - val_loss: nan - val_acc: 0.5588\n",
      "Epoch 8/10\n",
      "110288/110288 [==============================] - 13s 114us/step - loss: 1.7132 - acc: 0.5605 - val_loss: nan - val_acc: 0.5662\n",
      "Epoch 9/10\n",
      "110288/110288 [==============================] - 13s 114us/step - loss: 1.6631 - acc: 0.5670 - val_loss: nan - val_acc: 0.5745\n",
      "Epoch 10/10\n",
      "110288/110288 [==============================] - 13s 114us/step - loss: 1.6246 - acc: 0.5770 - val_loss: nan - val_acc: 0.5811\n",
      "new est est est en en mois et il est est en en <PAD> <PAD> <PAD> <PAD> <PAD> <PAD> <PAD> <PAD>\n"
     ]
    }
   ],
   "source": [
    "def encdec_model(input_shape, output_sequence_length, english_vocab_size, french_vocab_size):\n",
    "    \"\"\"\n",
    "    Build and train an encoder-decoder model on x and y\n",
    "    :param input_shape: Tuple of input shape\n",
    "    :param output_sequence_length: Length of output sequence\n",
    "    :param english_vocab_size: Number of unique English words in the dataset\n",
    "    :param french_vocab_size: Number of unique French words in the dataset\n",
    "    :return: Keras model built, but not trained\n",
    "    \"\"\"\n",
    "    # OPTIONAL: Implement\n",
    "    inputs = Input(input_shape[1:])\n",
    "    encoder = LSTM(64)(inputs)\n",
    "    decoder = RepeatVector(output_sequence_length)(encoder)\n",
    "    decoder = LSTM(64, return_sequences=True)(decoder)\n",
    "    decoded = TimeDistributed(Dense(french_vocab_size, activation='softmax'))(decoder)\n",
    "\n",
    "    model = Model(inputs=inputs, outputs=decoded)\n",
    "    model.compile(loss='sparse_categorical_crossentropy',\n",
    "                  optimizer=Adam(lr=.001),\n",
    "                  metrics=['accuracy'])\n",
    "\n",
    "    return model\n",
    "\n",
    "tests.test_encdec_model(encdec_model)\n",
    "\n",
    "\n",
    "# OPTIONAL: Train and Print prediction(s)\n",
    "tmp_x = pad(preproc_english_sentences, max_french_sequence_length)\n",
    "tmp_x = tmp_x.reshape((-1, preproc_french_sentences.shape[-2], 1))\n",
    "\n",
    "\n",
    "encdec_model = encdec_model(\n",
    "    tmp_x.shape,\n",
    "    max_french_sequence_length,\n",
    "    english_vocab_size,\n",
    "    french_vocab_size)\n",
    "\n",
    "encdec_model.fit(tmp_x, preproc_french_sentences, batch_size=1024, epochs=10, validation_split=0.2)\n",
    "\n",
    "\n",
    "print(logits_to_text(encdec_model.predict(tmp_x[:1])[0], french_tokenizer))"
   ]
  },
  {
   "cell_type": "markdown",
   "metadata": {},
   "source": [
    "### Model 5: Custom (IMPLEMENTATION)\n",
    "Use everything you learned from the previous models to create a model that incorporates embedding and a bidirectional rnn into one model."
   ]
  },
  {
   "cell_type": "code",
   "execution_count": 20,
   "metadata": {},
   "outputs": [
    {
     "name": "stdout",
     "output_type": "stream",
     "text": [
      "Final Model Loaded\n",
      "Train on 110288 samples, validate on 27573 samples\n",
      "Epoch 1/10\n",
      "110288/110288 [==============================] - 13s 114us/step - loss: 3.4630 - acc: 0.4218 - val_loss: nan - val_acc: 0.4751\n",
      "Epoch 2/10\n",
      "110288/110288 [==============================] - 12s 105us/step - loss: 2.3201 - acc: 0.5068 - val_loss: nan - val_acc: 0.5749\n",
      "Epoch 3/10\n",
      "110288/110288 [==============================] - 12s 106us/step - loss: 1.5739 - acc: 0.6242 - val_loss: nan - val_acc: 0.6774\n",
      "Epoch 4/10\n",
      "110288/110288 [==============================] - 12s 105us/step - loss: 1.1299 - acc: 0.7212 - val_loss: nan - val_acc: 0.7511\n",
      "Epoch 5/10\n",
      "110288/110288 [==============================] - 12s 106us/step - loss: 0.9104 - acc: 0.7634 - val_loss: nan - val_acc: 0.7777\n",
      "Epoch 6/10\n",
      "110288/110288 [==============================] - 12s 106us/step - loss: 0.7692 - acc: 0.7908 - val_loss: nan - val_acc: 0.8023\n",
      "Epoch 7/10\n",
      "110288/110288 [==============================] - 12s 106us/step - loss: 0.6621 - acc: 0.8151 - val_loss: nan - val_acc: 0.8274\n",
      "Epoch 8/10\n",
      "110288/110288 [==============================] - 12s 106us/step - loss: 0.5766 - acc: 0.8366 - val_loss: nan - val_acc: 0.8462\n",
      "Epoch 9/10\n",
      "110288/110288 [==============================] - 12s 106us/step - loss: 0.5113 - acc: 0.8532 - val_loss: nan - val_acc: 0.8619\n",
      "Epoch 10/10\n",
      "110288/110288 [==============================] - 12s 106us/step - loss: 0.4603 - acc: 0.8670 - val_loss: nan - val_acc: 0.8700\n",
      "new jersey est parfois calme pendant l' et il il il neigeux en en <PAD> <PAD> <PAD> <PAD> <PAD> <PAD> <PAD>\n"
     ]
    }
   ],
   "source": [
    "def model_final(input_shape, output_sequence_length, english_vocab_size, french_vocab_size):\n",
    "    \"\"\"\n",
    "    Build and train a model that incorporates embedding, encoder-decoder, and bidirectional RNN on x and y\n",
    "    :param input_shape: Tuple of input shape\n",
    "    :param output_sequence_length: Length of output sequence\n",
    "    :param english_vocab_size: Number of unique English words in the dataset\n",
    "    :param french_vocab_size: Number of unique French words in the dataset\n",
    "    :return: Keras model built, but not trained\n",
    "    \"\"\"\n",
    "    # TODO: Implement\n",
    "    input_seq = Input(input_shape[1:])\n",
    "    emb = Embedding(english_vocab_size, 64, input_length=output_sequence_length)(input_seq)\n",
    "    bdrnn = Bidirectional(GRU(64, return_sequences=True))(emb)\n",
    "    logits = TimeDistributed(Dense(french_vocab_size, activation='softmax'))(bdrnn)\n",
    "\n",
    "    model = Model(inputs=input_seq, outputs=logits)\n",
    "    model.compile(loss=sparse_categorical_crossentropy,\n",
    "                  optimizer=Adam(lr=.001),\n",
    "                  metrics=['accuracy'])\n",
    "    return model\n",
    "\n",
    "tests.test_model_final(model_final)\n",
    "\n",
    "\n",
    "print('Final Model Loaded')\n",
    "# TODO: Train the final model\n",
    "tmp_x = pad(preproc_english_sentences, max_french_sequence_length)\n",
    "\n",
    "# Train\n",
    "emb_bdrnn = model_final(\n",
    "    tmp_x.shape,\n",
    "    max_french_sequence_length,\n",
    "    english_vocab_size,\n",
    "    french_vocab_size)\n",
    "\n",
    "emb_bdrnn.fit(tmp_x, preproc_french_sentences, batch_size=1024, epochs=10, validation_split=0.2)\n",
    "\n",
    "\n",
    "print(logits_to_text(emb_bdrnn.predict(tmp_x[:1])[0], french_tokenizer))"
   ]
  },
  {
   "cell_type": "markdown",
   "metadata": {},
   "source": [
    "## Prediction (IMPLEMENTATION)"
   ]
  },
  {
   "cell_type": "code",
   "execution_count": 22,
   "metadata": {},
   "outputs": [
    {
     "name": "stdout",
     "output_type": "stream",
     "text": [
      "Train on 110288 samples, validate on 27573 samples\n",
      "Epoch 1/100\n",
      "110288/110288 [==============================] - 13s 115us/step - loss: 3.4658 - acc: 0.4240 - val_loss: nan - val_acc: 0.4789\n",
      "Epoch 2/100\n",
      "110288/110288 [==============================] - 12s 105us/step - loss: 2.2393 - acc: 0.5152 - val_loss: nan - val_acc: 0.5743\n",
      "Epoch 3/100\n",
      "110288/110288 [==============================] - 12s 106us/step - loss: 1.5381 - acc: 0.6229 - val_loss: nan - val_acc: 0.6647\n",
      "Epoch 4/100\n",
      "110288/110288 [==============================] - 12s 105us/step - loss: 1.1708 - acc: 0.7008 - val_loss: nan - val_acc: 0.7325\n",
      "Epoch 5/100\n",
      "110288/110288 [==============================] - 12s 105us/step - loss: 0.9462 - acc: 0.7507 - val_loss: nan - val_acc: 0.7669\n",
      "Epoch 6/100\n",
      "110288/110288 [==============================] - 12s 105us/step - loss: 0.7956 - acc: 0.7822 - val_loss: nan - val_acc: 0.7952\n",
      "Epoch 7/100\n",
      "110288/110288 [==============================] - 12s 106us/step - loss: 0.6791 - acc: 0.8079 - val_loss: nan - val_acc: 0.8205\n",
      "Epoch 8/100\n",
      "110288/110288 [==============================] - 12s 106us/step - loss: 0.5913 - acc: 0.8290 - val_loss: nan - val_acc: 0.8379\n",
      "Epoch 9/100\n",
      "110288/110288 [==============================] - 12s 105us/step - loss: 0.5257 - acc: 0.8455 - val_loss: nan - val_acc: 0.8528\n",
      "Epoch 10/100\n",
      "110288/110288 [==============================] - 12s 105us/step - loss: 0.4755 - acc: 0.8583 - val_loss: nan - val_acc: 0.8637\n",
      "Epoch 11/100\n",
      "110288/110288 [==============================] - 12s 106us/step - loss: 0.4335 - acc: 0.8708 - val_loss: nan - val_acc: 0.8749\n",
      "Epoch 12/100\n",
      "110288/110288 [==============================] - 12s 105us/step - loss: 0.3995 - acc: 0.8811 - val_loss: nan - val_acc: 0.8842\n",
      "Epoch 13/100\n",
      "110288/110288 [==============================] - 12s 105us/step - loss: 0.3697 - acc: 0.8904 - val_loss: nan - val_acc: 0.8939\n",
      "Epoch 14/100\n",
      "110288/110288 [==============================] - 12s 105us/step - loss: 0.3459 - acc: 0.8979 - val_loss: nan - val_acc: 0.9011\n",
      "Epoch 15/100\n",
      "110288/110288 [==============================] - 12s 106us/step - loss: 0.3232 - acc: 0.9051 - val_loss: nan - val_acc: 0.9078\n",
      "Epoch 16/100\n",
      "110288/110288 [==============================] - 12s 106us/step - loss: 0.3038 - acc: 0.9112 - val_loss: nan - val_acc: 0.9133\n",
      "Epoch 17/100\n",
      "110288/110288 [==============================] - 12s 106us/step - loss: 0.2872 - acc: 0.9160 - val_loss: nan - val_acc: 0.9172\n",
      "Epoch 18/100\n",
      "110288/110288 [==============================] - 12s 105us/step - loss: 0.2715 - acc: 0.9208 - val_loss: nan - val_acc: 0.9215\n",
      "Epoch 19/100\n",
      "110288/110288 [==============================] - 12s 106us/step - loss: 0.2576 - acc: 0.9250 - val_loss: nan - val_acc: 0.9251\n",
      "Epoch 20/100\n",
      "110288/110288 [==============================] - 12s 106us/step - loss: 0.2458 - acc: 0.9285 - val_loss: nan - val_acc: 0.9263\n",
      "Epoch 21/100\n",
      "110288/110288 [==============================] - 12s 106us/step - loss: 0.2355 - acc: 0.9316 - val_loss: nan - val_acc: 0.9311\n",
      "Epoch 22/100\n",
      "110288/110288 [==============================] - 12s 105us/step - loss: 0.2261 - acc: 0.9342 - val_loss: nan - val_acc: 0.9335\n",
      "Epoch 23/100\n",
      "110288/110288 [==============================] - 12s 105us/step - loss: 0.2171 - acc: 0.9370 - val_loss: nan - val_acc: 0.9365\n",
      "Epoch 24/100\n",
      "110288/110288 [==============================] - 12s 105us/step - loss: 0.2090 - acc: 0.9393 - val_loss: nan - val_acc: 0.9400\n",
      "Epoch 25/100\n",
      "110288/110288 [==============================] - 12s 105us/step - loss: 0.2012 - acc: 0.9419 - val_loss: nan - val_acc: 0.9415\n",
      "Epoch 26/100\n",
      "110288/110288 [==============================] - 12s 105us/step - loss: 0.1942 - acc: 0.9440 - val_loss: nan - val_acc: 0.9436\n",
      "Epoch 27/100\n",
      "110288/110288 [==============================] - 12s 105us/step - loss: 0.1881 - acc: 0.9459 - val_loss: nan - val_acc: 0.9449\n",
      "Epoch 28/100\n",
      "110288/110288 [==============================] - 12s 105us/step - loss: 0.1826 - acc: 0.9475 - val_loss: nan - val_acc: 0.9468\n",
      "Epoch 29/100\n",
      "110288/110288 [==============================] - 12s 105us/step - loss: 0.1772 - acc: 0.9492 - val_loss: nan - val_acc: 0.9482\n",
      "Epoch 30/100\n",
      "110288/110288 [==============================] - 12s 105us/step - loss: 0.1720 - acc: 0.9508 - val_loss: nan - val_acc: 0.9498\n",
      "Epoch 31/100\n",
      "110288/110288 [==============================] - 12s 105us/step - loss: 0.1667 - acc: 0.9523 - val_loss: nan - val_acc: 0.9512\n",
      "Epoch 32/100\n",
      "110288/110288 [==============================] - 12s 105us/step - loss: 0.1629 - acc: 0.9536 - val_loss: nan - val_acc: 0.9523\n",
      "Epoch 33/100\n",
      "110288/110288 [==============================] - 12s 105us/step - loss: 0.1598 - acc: 0.9544 - val_loss: nan - val_acc: 0.9531\n",
      "Epoch 34/100\n",
      "110288/110288 [==============================] - 12s 106us/step - loss: 0.1548 - acc: 0.9562 - val_loss: nan - val_acc: 0.9540\n",
      "Epoch 35/100\n",
      "110288/110288 [==============================] - 12s 105us/step - loss: 0.1511 - acc: 0.9572 - val_loss: nan - val_acc: 0.9558\n",
      "Epoch 36/100\n",
      "110288/110288 [==============================] - 12s 105us/step - loss: 0.1479 - acc: 0.9582 - val_loss: nan - val_acc: 0.9547\n",
      "Epoch 37/100\n",
      "110288/110288 [==============================] - 12s 105us/step - loss: 0.1449 - acc: 0.9592 - val_loss: nan - val_acc: 0.9571\n",
      "Epoch 38/100\n",
      "110288/110288 [==============================] - 12s 106us/step - loss: 0.1406 - acc: 0.9606 - val_loss: nan - val_acc: 0.9586\n",
      "Epoch 39/100\n",
      "110288/110288 [==============================] - 12s 106us/step - loss: 0.1380 - acc: 0.9612 - val_loss: nan - val_acc: 0.9584\n",
      "Epoch 40/100\n",
      "110288/110288 [==============================] - 12s 106us/step - loss: 0.1357 - acc: 0.9619 - val_loss: nan - val_acc: 0.9594\n",
      "Epoch 41/100\n",
      "110288/110288 [==============================] - 12s 105us/step - loss: 0.1327 - acc: 0.9628 - val_loss: nan - val_acc: 0.9602\n",
      "Epoch 42/100\n",
      "110288/110288 [==============================] - 12s 105us/step - loss: 0.1307 - acc: 0.9633 - val_loss: nan - val_acc: 0.9610\n",
      "Epoch 43/100\n",
      "110288/110288 [==============================] - 12s 105us/step - loss: 0.1274 - acc: 0.9644 - val_loss: nan - val_acc: 0.9615\n",
      "Epoch 44/100\n",
      "110288/110288 [==============================] - 12s 105us/step - loss: 0.1254 - acc: 0.9650 - val_loss: nan - val_acc: 0.9617\n",
      "Epoch 45/100\n",
      "110288/110288 [==============================] - 12s 106us/step - loss: 0.1230 - acc: 0.9657 - val_loss: nan - val_acc: 0.9628\n",
      "Epoch 46/100\n",
      "110288/110288 [==============================] - 12s 106us/step - loss: 0.1217 - acc: 0.9660 - val_loss: nan - val_acc: 0.9636\n",
      "Epoch 47/100\n",
      "110288/110288 [==============================] - 12s 106us/step - loss: 0.1189 - acc: 0.9669 - val_loss: nan - val_acc: 0.9639\n",
      "Epoch 48/100\n",
      "110288/110288 [==============================] - 12s 105us/step - loss: 0.1172 - acc: 0.9675 - val_loss: nan - val_acc: 0.9636\n",
      "Epoch 49/100\n",
      "110288/110288 [==============================] - 12s 105us/step - loss: 0.1155 - acc: 0.9678 - val_loss: nan - val_acc: 0.9648\n",
      "Epoch 50/100\n",
      "110288/110288 [==============================] - 12s 105us/step - loss: 0.1128 - acc: 0.9687 - val_loss: nan - val_acc: 0.9650\n",
      "Epoch 51/100\n",
      "110288/110288 [==============================] - 12s 105us/step - loss: 0.1130 - acc: 0.9685 - val_loss: nan - val_acc: 0.9653\n",
      "Epoch 52/100\n",
      "110288/110288 [==============================] - 12s 105us/step - loss: 0.1097 - acc: 0.9694 - val_loss: nan - val_acc: 0.9653\n",
      "Epoch 53/100\n",
      "110288/110288 [==============================] - 12s 105us/step - loss: 0.1083 - acc: 0.9698 - val_loss: nan - val_acc: 0.9646\n",
      "Epoch 54/100\n",
      "110288/110288 [==============================] - 12s 105us/step - loss: 0.1075 - acc: 0.9700 - val_loss: nan - val_acc: 0.9668\n",
      "Epoch 55/100\n",
      "110288/110288 [==============================] - 12s 105us/step - loss: 0.1049 - acc: 0.9709 - val_loss: nan - val_acc: 0.9672\n",
      "Epoch 56/100\n",
      "110288/110288 [==============================] - 12s 105us/step - loss: 0.1039 - acc: 0.9710 - val_loss: nan - val_acc: 0.9677\n",
      "Epoch 57/100\n",
      "110288/110288 [==============================] - 12s 105us/step - loss: 0.1032 - acc: 0.9712 - val_loss: nan - val_acc: 0.9677\n",
      "Epoch 58/100\n",
      "110288/110288 [==============================] - 12s 105us/step - loss: 0.1021 - acc: 0.9715 - val_loss: nan - val_acc: 0.9682\n",
      "Epoch 59/100\n"
     ]
    },
    {
     "name": "stdout",
     "output_type": "stream",
     "text": [
      "110288/110288 [==============================] - 12s 105us/step - loss: 0.0990 - acc: 0.9724 - val_loss: nan - val_acc: 0.9684\n",
      "Epoch 60/100\n",
      "110288/110288 [==============================] - 12s 105us/step - loss: 0.0990 - acc: 0.9724 - val_loss: nan - val_acc: 0.9688\n",
      "Epoch 61/100\n",
      "110288/110288 [==============================] - 12s 106us/step - loss: 0.0982 - acc: 0.9725 - val_loss: nan - val_acc: 0.9691\n",
      "Epoch 62/100\n",
      "110288/110288 [==============================] - 12s 105us/step - loss: 0.0966 - acc: 0.9731 - val_loss: nan - val_acc: 0.9693\n",
      "Epoch 63/100\n",
      "110288/110288 [==============================] - 12s 105us/step - loss: 0.0950 - acc: 0.9735 - val_loss: nan - val_acc: 0.9692\n",
      "Epoch 64/100\n",
      "110288/110288 [==============================] - 12s 105us/step - loss: 0.0938 - acc: 0.9738 - val_loss: nan - val_acc: 0.9704\n",
      "Epoch 65/100\n",
      "110288/110288 [==============================] - 12s 105us/step - loss: 0.0926 - acc: 0.9741 - val_loss: nan - val_acc: 0.9698\n",
      "Epoch 66/100\n",
      "110288/110288 [==============================] - 12s 105us/step - loss: 0.0926 - acc: 0.9740 - val_loss: nan - val_acc: 0.9705\n",
      "Epoch 67/100\n",
      "110288/110288 [==============================] - 12s 105us/step - loss: 0.0907 - acc: 0.9747 - val_loss: nan - val_acc: 0.9707\n",
      "Epoch 68/100\n",
      "110288/110288 [==============================] - 12s 105us/step - loss: 0.0898 - acc: 0.9749 - val_loss: nan - val_acc: 0.9713\n",
      "Epoch 69/100\n",
      "110288/110288 [==============================] - 12s 106us/step - loss: 0.0890 - acc: 0.9751 - val_loss: nan - val_acc: 0.9706\n",
      "Epoch 70/100\n",
      "110288/110288 [==============================] - 12s 105us/step - loss: 0.0886 - acc: 0.9752 - val_loss: nan - val_acc: 0.9713\n",
      "Epoch 71/100\n",
      "110288/110288 [==============================] - 12s 105us/step - loss: 0.0870 - acc: 0.9757 - val_loss: nan - val_acc: 0.9718\n",
      "Epoch 72/100\n",
      "110288/110288 [==============================] - 12s 105us/step - loss: 0.0860 - acc: 0.9759 - val_loss: nan - val_acc: 0.9715\n",
      "Epoch 73/100\n",
      "110288/110288 [==============================] - 12s 107us/step - loss: 0.0860 - acc: 0.9758 - val_loss: nan - val_acc: 0.9716\n",
      "Epoch 74/100\n",
      "110288/110288 [==============================] - 12s 105us/step - loss: 0.0839 - acc: 0.9765 - val_loss: nan - val_acc: 0.9720\n",
      "Epoch 75/100\n",
      "110288/110288 [==============================] - 12s 106us/step - loss: 0.0835 - acc: 0.9766 - val_loss: nan - val_acc: 0.9722\n",
      "Epoch 76/100\n",
      "110288/110288 [==============================] - 12s 105us/step - loss: 0.0837 - acc: 0.9764 - val_loss: nan - val_acc: 0.9712\n",
      "Epoch 77/100\n",
      "110288/110288 [==============================] - 12s 105us/step - loss: 0.0823 - acc: 0.9767 - val_loss: nan - val_acc: 0.9723\n",
      "Epoch 78/100\n",
      "110288/110288 [==============================] - 12s 106us/step - loss: 0.0807 - acc: 0.9774 - val_loss: nan - val_acc: 0.9723\n",
      "Epoch 79/100\n",
      "110288/110288 [==============================] - 12s 105us/step - loss: 0.0806 - acc: 0.9772 - val_loss: nan - val_acc: 0.9730\n",
      "Epoch 80/100\n",
      "110288/110288 [==============================] - 12s 105us/step - loss: 0.0797 - acc: 0.9775 - val_loss: nan - val_acc: 0.9727\n",
      "Epoch 81/100\n",
      "110288/110288 [==============================] - 12s 105us/step - loss: 0.0787 - acc: 0.9778 - val_loss: nan - val_acc: 0.9734\n",
      "Epoch 82/100\n",
      "110288/110288 [==============================] - 12s 105us/step - loss: 0.0791 - acc: 0.9776 - val_loss: nan - val_acc: 0.9730\n",
      "Epoch 83/100\n",
      "110288/110288 [==============================] - 12s 105us/step - loss: 0.0773 - acc: 0.9783 - val_loss: nan - val_acc: 0.9734\n",
      "Epoch 84/100\n",
      "110288/110288 [==============================] - 12s 106us/step - loss: 0.0772 - acc: 0.9783 - val_loss: nan - val_acc: 0.9732\n",
      "Epoch 85/100\n",
      "110288/110288 [==============================] - 12s 105us/step - loss: 0.0765 - acc: 0.9784 - val_loss: nan - val_acc: 0.9742\n",
      "Epoch 86/100\n",
      "110288/110288 [==============================] - 12s 105us/step - loss: 0.0755 - acc: 0.9786 - val_loss: nan - val_acc: 0.9742\n",
      "Epoch 87/100\n",
      "110288/110288 [==============================] - 12s 106us/step - loss: 0.0762 - acc: 0.9785 - val_loss: nan - val_acc: 0.9743\n",
      "Epoch 88/100\n",
      "110288/110288 [==============================] - 12s 105us/step - loss: 0.0744 - acc: 0.9790 - val_loss: nan - val_acc: 0.9738\n",
      "Epoch 89/100\n",
      "110288/110288 [==============================] - 12s 105us/step - loss: 0.0739 - acc: 0.9792 - val_loss: nan - val_acc: 0.9739\n",
      "Epoch 90/100\n",
      "110288/110288 [==============================] - 12s 105us/step - loss: 0.0731 - acc: 0.9792 - val_loss: nan - val_acc: 0.9744\n",
      "Epoch 91/100\n",
      "110288/110288 [==============================] - 12s 105us/step - loss: 0.0730 - acc: 0.9794 - val_loss: nan - val_acc: 0.9744\n",
      "Epoch 92/100\n",
      "110288/110288 [==============================] - 12s 105us/step - loss: 0.0731 - acc: 0.9794 - val_loss: nan - val_acc: 0.9744\n",
      "Epoch 93/100\n",
      "110288/110288 [==============================] - 12s 105us/step - loss: 0.0739 - acc: 0.9790 - val_loss: nan - val_acc: 0.9748\n",
      "Epoch 94/100\n",
      "110288/110288 [==============================] - 12s 105us/step - loss: 0.0713 - acc: 0.9800 - val_loss: nan - val_acc: 0.9745\n",
      "Epoch 95/100\n",
      "110288/110288 [==============================] - 12s 105us/step - loss: 0.0718 - acc: 0.9796 - val_loss: nan - val_acc: 0.97547 - acc: 0.9\n",
      "Epoch 96/100\n",
      "110288/110288 [==============================] - 12s 105us/step - loss: 0.0704 - acc: 0.9800 - val_loss: nan - val_acc: 0.9755\n",
      "Epoch 97/100\n",
      "110288/110288 [==============================] - 12s 105us/step - loss: 0.0693 - acc: 0.9804 - val_loss: nan - val_acc: 0.9753\n",
      "Epoch 98/100\n",
      "110288/110288 [==============================] - 12s 106us/step - loss: 0.0690 - acc: 0.9805 - val_loss: nan - val_acc: 0.9756\n",
      "Epoch 99/100\n",
      "110288/110288 [==============================] - 12s 105us/step - loss: 0.0691 - acc: 0.9804 - val_loss: nan - val_acc: 0.9752\n",
      "Epoch 100/100\n",
      "110288/110288 [==============================] - 12s 106us/step - loss: 0.0683 - acc: 0.9806 - val_loss: nan - val_acc: 0.9757\n",
      "Sample 1:\n",
      "il a vu un vieux camion jaune <PAD> <PAD> <PAD> <PAD> <PAD> <PAD> <PAD> <PAD> <PAD> <PAD> <PAD> <PAD> <PAD> <PAD>\n",
      "Il a vu un vieux camion jaune\n",
      "Sample 2:\n",
      "new jersey est parfois calme pendant l' automne et il est neigeux en avril <PAD> <PAD> <PAD> <PAD> <PAD> <PAD> <PAD>\n",
      "new jersey est parfois calme pendant l' automne et il est neigeux en avril <PAD> <PAD> <PAD> <PAD> <PAD> <PAD> <PAD>\n"
     ]
    }
   ],
   "source": [
    "def final_predictions(x, y, x_tk, y_tk):\n",
    "    \"\"\"\n",
    "    Gets predictions using the final model\n",
    "    :param x: Preprocessed English data\n",
    "    :param y: Preprocessed French data\n",
    "    :param x_tk: English tokenizer\n",
    "    :param y_tk: French tokenizer\n",
    "    \"\"\"\n",
    "    # TODO: Train neural network using model_final\n",
    "    max_english_sequence_length = x.shape[1]\n",
    "    max_french_sequence_length = y.shape[1]\n",
    "    english_vocab_size = len(x_tk.word_index)\n",
    "    french_vocab_size = len(y_tk.word_index)\n",
    "\n",
    "    # Pad the input\n",
    "    x = pad(x, max_french_sequence_length)\n",
    "\n",
    "    \n",
    "    model = model_final(\n",
    "        x.shape,\n",
    "        max_french_sequence_length,\n",
    "        english_vocab_size,\n",
    "        french_vocab_size)\n",
    "\n",
    "    model.fit(x, y, batch_size=1024, epochs=100, validation_split=0.2)\n",
    "\n",
    "    \n",
    "    ## DON'T EDIT ANYTHING BELOW THIS LINE\n",
    "    y_id_to_word = {value: key for key, value in y_tk.word_index.items()}\n",
    "    y_id_to_word[0] = '<PAD>'\n",
    "\n",
    "    sentence = 'he saw a old yellow truck'\n",
    "    sentence = [x_tk.word_index[word] for word in sentence.split()]\n",
    "    sentence = pad_sequences([sentence], maxlen=x.shape[-1], padding='post')\n",
    "    sentences = np.array([sentence[0], x[0]])\n",
    "    predictions = model.predict(sentences, len(sentences))\n",
    "\n",
    "    print('Sample 1:')\n",
    "    print(' '.join([y_id_to_word[np.argmax(x)] for x in predictions[0]]))\n",
    "    print('Il a vu un vieux camion jaune')\n",
    "    print('Sample 2:')\n",
    "    print(' '.join([y_id_to_word[np.argmax(x)] for x in predictions[1]]))\n",
    "    print(' '.join([y_id_to_word[np.max(x)] for x in y[0]]))\n",
    "\n",
    "\n",
    "final_predictions(preproc_english_sentences, preproc_french_sentences, english_tokenizer, french_tokenizer)"
   ]
  },
  {
   "cell_type": "markdown",
   "metadata": {},
   "source": [
    "## Submission\n",
    "When you're ready to submit, complete the following steps:\n",
    "1. Review the [rubric](https://review.udacity.com/#!/rubrics/1004/view) to ensure your submission meets all requirements to pass\n",
    "2. Generate an HTML version of this notebook\n",
    "\n",
    "  - Run the next cell to attempt automatic generation (this is the recommended method in Workspaces)\n",
    "  - Navigate to **FILE -> Download as -> HTML (.html)**\n",
    "  - Manually generate a copy using `nbconvert` from your shell terminal\n",
    "```\n",
    "$ pip install nbconvert\n",
    "$ python -m nbconvert machine_translation.ipynb\n",
    "```\n",
    "  \n",
    "3. Submit the project\n",
    "\n",
    "  - If you are in a Workspace, simply click the \"Submit Project\" button (bottom towards the right)\n",
    "  \n",
    "  - Otherwise, add the following files into a zip archive and submit them \n",
    "  - `helper.py`\n",
    "  - `machine_translation.ipynb`\n",
    "  - `machine_translation.html`\n",
    "    - You can export the notebook by navigating to **File -> Download as -> HTML (.html)**."
   ]
  },
  {
   "cell_type": "markdown",
   "metadata": {},
   "source": [
    "### Generate the html\n",
    "\n",
    "**Save your notebook before running the next cell to generate the HTML output.** Then submit your project."
   ]
  },
  {
   "cell_type": "code",
   "execution_count": 23,
   "metadata": {},
   "outputs": [
    {
     "data": {
      "text/plain": [
       "['[NbConvertApp] Converting notebook machine_translation.ipynb to html',\n",
       " '[NbConvertApp] Writing 380170 bytes to machine_translation.html',\n",
       " '[NbConvertApp] Converting notebook machine_translation-zh.ipynb to html',\n",
       " '[NbConvertApp] Writing 328614 bytes to machine_translation-zh.html']"
      ]
     },
     "execution_count": 23,
     "metadata": {},
     "output_type": "execute_result"
    }
   ],
   "source": [
    "# Save before you run this cell!\n",
    "!!jupyter nbconvert *.ipynb"
   ]
  },
  {
   "cell_type": "markdown",
   "metadata": {},
   "source": [
    "## Optional Enhancements\n",
    "\n",
    "This project focuses on learning various network architectures for machine translation, but we don't evaluate the models according to best practices by splitting the data into separate test & training sets -- so the model accuracy is overstated. Use the [`sklearn.model_selection.train_test_split()`](http://scikit-learn.org/stable/modules/generated/sklearn.model_selection.train_test_split.html) function to create separate training & test datasets, then retrain each of the models using only the training set and evaluate the prediction accuracy using the hold out test set. Does the \"best\" model change?"
   ]
  }
 ],
 "metadata": {
  "kernelspec": {
   "display_name": "Python 3",
   "language": "python",
   "name": "python3"
  },
  "language_info": {
   "codemirror_mode": {
    "name": "ipython",
    "version": 3
   },
   "file_extension": ".py",
   "mimetype": "text/x-python",
   "name": "python",
   "nbconvert_exporter": "python",
   "pygments_lexer": "ipython3",
   "version": "3.6.3"
  }
 },
 "nbformat": 4,
 "nbformat_minor": 1
}
